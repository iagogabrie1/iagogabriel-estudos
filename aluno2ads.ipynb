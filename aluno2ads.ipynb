{
  "nbformat": 4,
  "nbformat_minor": 0,
  "metadata": {
    "colab": {
      "provenance": [],
      "authorship_tag": "ABX9TyOKbxzF24qBwrGr5Di2maiQ",
      "include_colab_link": true
    },
    "kernelspec": {
      "name": "python3",
      "display_name": "Python 3"
    },
    "language_info": {
      "name": "python"
    }
  },
  "cells": [
    {
      "cell_type": "markdown",
      "metadata": {
        "id": "view-in-github",
        "colab_type": "text"
      },
      "source": [
        "<a href=\"https://colab.research.google.com/github/iagogabrie1/iagogabriel-estudos/blob/main/aluno2ads.ipynb\" target=\"_parent\"><img src=\"https://colab.research.google.com/assets/colab-badge.svg\" alt=\"Open In Colab\"/></a>"
      ]
    },
    {
      "cell_type": "code",
      "execution_count": null,
      "metadata": {
        "id": "2tyXKNKudIeF"
      },
      "outputs": [],
      "source": [
        "# minha primeira vez em phyton\n",
        "# uninassau\n",
        "#estudante: iago gabriel amaral da silva\n",
        "# tipos primitivos de DADOS\n",
        "\n",
        "#print('Olá Mundo')"
      ]
    },
    {
      "cell_type": "code",
      "source": [
        "d = 'Dado'\n",
        "print(type(d))"
      ],
      "metadata": {
        "id": "yeBs0hUGeb1M"
      },
      "execution_count": null,
      "outputs": []
    },
    {
      "cell_type": "code",
      "source": [],
      "metadata": {
        "id": "wK6vONd2fwyW"
      },
      "execution_count": null,
      "outputs": []
    },
    {
      "cell_type": "code",
      "source": [
        "''"
      ],
      "metadata": {
        "id": "864vaqUafzEm"
      },
      "execution_count": null,
      "outputs": []
    }
  ]
}