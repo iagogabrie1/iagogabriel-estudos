{
  "nbformat": 4,
  "nbformat_minor": 0,
  "metadata": {
    "colab": {
      "provenance": []
    },
    "kernelspec": {
      "name": "python3",
      "display_name": "Python 3"
    },
    "language_info": {
      "name": "python"
    }
  },
  "cells": [
    {
      "cell_type": "code",
      "execution_count": null,
      "metadata": {
        "id": "2tyXKNKudIeF"
      },
      "outputs": [],
      "source": [
        "# minha primeira vez em phyton\n",
        "# uninassau\n",
        "#estudante: iago gabriel amaral da silva\n",
        "# tipos primitivos de DADOS\n",
        "\n",
        "#print('Olá Mundo')"
      ]
    },
    {
      "cell_type": "code",
      "source": [
        "c = False\n",
        "print(type(c))"
      ],
      "metadata": {
        "id": "yeBs0hUGeb1M"
      },
      "execution_count": null,
      "outputs": []
    },
    {
      "cell_type": "code",
      "source": [],
      "metadata": {
        "id": "wK6vONd2fwyW"
      },
      "execution_count": null,
      "outputs": []
    },
    {
      "cell_type": "code",
      "source": [
        "''"
      ],
      "metadata": {
        "id": "864vaqUafzEm"
      },
      "execution_count": null,
      "outputs": []
    }
  ]
}